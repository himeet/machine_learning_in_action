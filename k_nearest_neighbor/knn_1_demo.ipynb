{
 "cells": [
  {
   "cell_type": "code",
   "execution_count": 3,
   "metadata": {},
   "outputs": [
    {
     "name": "stdout",
     "output_type": "stream",
     "text": [
      "分类结果为： B\n"
     ]
    }
   ],
   "source": [
    "# 实现knn的基本demo\n",
    "import numpy as np\n",
    "import operator\n",
    "\n",
    "\n",
    "# 创建数据集和标签\n",
    "def createDataset():\n",
    "    dataset = np.array([[1.0, 1.1],\n",
    "                    [1.0, 1.0],\n",
    "                    [0, 0],\n",
    "                    [0, 0.1]])\n",
    "    labels = ['A', 'A', 'B', 'B']\n",
    "    return dataset, labels\n",
    "\n",
    "\n",
    "# k近邻分类算法\n",
    "# inputX为用于待分类的输入向量\n",
    "# dataset为训练样本数据集\n",
    "# labels为数据集的标签\n",
    "# k为选择最近邻居的数量\n",
    "def knn(input_x, dataset, labels, k):\n",
    "    dataset_size = dataset.shape[0]\n",
    "    # 计算已知类别数据集中的点与当前点的距离\n",
    "    distance_mat = np.tile(input_x, (dataset_size, 1)) - dataset\n",
    "    distance_mat = distance_mat**2\n",
    "    sq_distance_list = distance_mat.sum(axis=1)\n",
    "    distance_list = sq_distance_list**0.5\n",
    "    sorted_dist_index_list = distance_list.argsort()  # 递增排序，获取到的是排序后的索引 \n",
    "    # 选择距离最小的k个点\n",
    "    class_count_dict = {}  # 前k个距离最近的点钟每个类别及出现的次数\n",
    "    for i in range(k):\n",
    "        vote_i_label = labels[sorted_dist_index_list[i]]\n",
    "        class_count_dict[vote_i_label] = class_count_dict.get(vote_i_label, 0) + 1\n",
    "    sorted_class_count_list = sorted(class_count_dict.items(), key=operator.itemgetter(1), reverse=True)\n",
    "    return sorted_class_count_list[0][0]  # [0][0]选取次数出现最多的类别的类名，sorted_class_count为list格式\n",
    "    \n",
    "    \n",
    "def main():\n",
    "    input_x = [0.1, 0.2] \n",
    "    dataset, labels = createDataset()\n",
    "    result = knn(input_x, dataset, labels, 3)\n",
    "    print('分类结果为：', result)\n",
    "\n",
    "    \n",
    "if __name__ == '__main__':\n",
    "    main()"
   ]
  },
  {
   "cell_type": "code",
   "execution_count": null,
   "metadata": {},
   "outputs": [],
   "source": []
  }
 ],
 "metadata": {
  "kernelspec": {
   "display_name": "Python 3",
   "language": "python",
   "name": "python3"
  },
  "language_info": {
   "codemirror_mode": {
    "name": "ipython",
    "version": 3
   },
   "file_extension": ".py",
   "mimetype": "text/x-python",
   "name": "python",
   "nbconvert_exporter": "python",
   "pygments_lexer": "ipython3",
   "version": "3.7.0"
  }
 },
 "nbformat": 4,
 "nbformat_minor": 4
}
