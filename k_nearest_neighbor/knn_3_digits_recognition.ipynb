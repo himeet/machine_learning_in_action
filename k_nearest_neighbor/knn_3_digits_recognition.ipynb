{
 "cells": [
  {
   "cell_type": "code",
   "execution_count": 26,
   "metadata": {},
   "outputs": [
    {
     "name": "stdout",
     "output_type": "stream",
     "text": [
      "The total error rate is: 0.010571\n"
     ]
    }
   ],
   "source": [
    "# knn实现手写数字识别\n",
    "import numpy as np\n",
    "import operator\n",
    "from os import listdir\n",
    "\n",
    "\n",
    "# 将一张图片转换为向量\n",
    "# 手写数字图片为32*32，转换为1*1024\n",
    "def img2vector(filename):\n",
    "    return_vector = np.zeros((1,1024))\n",
    "    fr = open(filename)\n",
    "    for i in range(32):\n",
    "        line_str = fr.readline()\n",
    "        for j in range(32):\n",
    "            return_vector[0, 32*i+j] = int(line_str[j])\n",
    "    return return_vector\n",
    "\n",
    "\n",
    "# k近邻分类算法\n",
    "# input_x为用于待分类的输入向量\n",
    "# dataset为训练样本数据集，矩阵，numpy二维数组\n",
    "# labels为训练数据集的标签\n",
    "# k为选择最近邻居的数量\n",
    "def knn(input_x, dataset, labels, k):\n",
    "    dataset_size = dataset.shape[0]\n",
    "    # 计算已知类别数据集中的点与当前点的距离\n",
    "    distance_mat = np.tile(input_x, (dataset_size, 1)) - dataset\n",
    "    distance_mat = distance_mat**2\n",
    "    sq_distance_list = distance_mat.sum(axis=1)\n",
    "    distance_list = sq_distance_list**0.5\n",
    "    sorted_dist_index_list = distance_list.argsort()  # 递增排序，获取到的是排序后的索引 \n",
    "    # 选择距离最小的k个点\n",
    "    class_count_dict = {}  # 前k个距离最近的点钟每个类别及出现的次数\n",
    "    for i in range(k):\n",
    "        vote_i_label = labels[sorted_dist_index_list[i]]\n",
    "        class_count_dict[vote_i_label] = class_count_dict.get(vote_i_label, 0) + 1\n",
    "    sorted_class_count_list = sorted(class_count_dict.items(), key=operator.itemgetter(1), reverse=True)\n",
    "    return sorted_class_count_list[0][0]  # [0][0]选取次数出现最多的类别的类名，sorted_class_count为list格式\n",
    "\n",
    "\n",
    "# 手写数字识别测试代码\n",
    "def hand_writing_digits_test():\n",
    "    training_data_labels = []\n",
    "    training_data_file_list = listdir('./datasets/digits/trainingDigits')\n",
    "    num_of_training_data = len(training_data_file_list)\n",
    "    training_data_mat = np.zeros((num_of_training_data, 1024))\n",
    "    for i in range(num_of_training_data):\n",
    "        file_name_str = training_data_file_list[i]\n",
    "        file_str = file_name_str.split('.')[0]\n",
    "        class_num = int(file_str.split('_')[0])\n",
    "        training_data_labels.append(class_num)\n",
    "        training_data_mat[i,:] = img2vector('./datasets/digits/trainingDigits/%s' % file_name_str)\n",
    "    test_file_list = listdir('./datasets/digits/testDigits')\n",
    "    error_count = 0\n",
    "    num_of_test_data = len(test_file_list)\n",
    "    for i in range(num_of_test_data):\n",
    "        file_name_str = test_file_list[i]\n",
    "        file_str = file_name_str.split('.')[0]\n",
    "        class_num = int(file_str.split('_')[0])  # ground truth\n",
    "        test_data_vector = img2vector('./datasets/digits/testDigits/%s' % file_name_str)\n",
    "        classifier_result = knn(test_data_vector, training_data_mat, training_data_labels, 3)\n",
    "        #print('The classifer came back with: %d, the real answer is: %d' % (classifier_result, class_num))\n",
    "        if classifier_result != class_num:\n",
    "            error_count += 1\n",
    "    print('The total error rate is: %f' % (error_count/float(num_of_test_data)))\n",
    "\n",
    "\n",
    "# main函数\n",
    "def main():\n",
    "    hand_writing_digits_test()\n",
    "\n",
    "\n",
    "if __name__ == '__main__':\n",
    "    main()"
   ]
  },
  {
   "cell_type": "code",
   "execution_count": null,
   "metadata": {},
   "outputs": [],
   "source": []
  }
 ],
 "metadata": {
  "kernelspec": {
   "display_name": "Python 3",
   "language": "python",
   "name": "python3"
  },
  "language_info": {
   "codemirror_mode": {
    "name": "ipython",
    "version": 3
   },
   "file_extension": ".py",
   "mimetype": "text/x-python",
   "name": "python",
   "nbconvert_exporter": "python",
   "pygments_lexer": "ipython3",
   "version": "3.7.0"
  }
 },
 "nbformat": 4,
 "nbformat_minor": 4
}
